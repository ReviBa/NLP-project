{
  "nbformat": 4,
  "nbformat_minor": 0,
  "metadata": {
    "colab": {
      "provenance": [],
      "machine_shape": "hm",
      "gpuType": "T4"
    },
    "kernelspec": {
      "name": "python3",
      "display_name": "Python 3"
    },
    "language_info": {
      "name": "python"
    },
    "accelerator": "GPU",
    "widgets": {
      "application/vnd.jupyter.widget-state+json": {
        "fbb9e951d7604933987d75ef41d649b9": {
          "model_module": "@jupyter-widgets/controls",
          "model_name": "HBoxModel",
          "model_module_version": "1.5.0",
          "state": {
            "_dom_classes": [],
            "_model_module": "@jupyter-widgets/controls",
            "_model_module_version": "1.5.0",
            "_model_name": "HBoxModel",
            "_view_count": null,
            "_view_module": "@jupyter-widgets/controls",
            "_view_module_version": "1.5.0",
            "_view_name": "HBoxView",
            "box_style": "",
            "children": [
              "IPY_MODEL_2fe982b47b1d44eda6f9638a43ada024",
              "IPY_MODEL_39669d9a50724fac8bdaf349e2d10fbe",
              "IPY_MODEL_07b92bf7d4044389979bb7eec698d8c5"
            ],
            "layout": "IPY_MODEL_2a9fdd749213412996b90b98b8a692b5"
          }
        },
        "2fe982b47b1d44eda6f9638a43ada024": {
          "model_module": "@jupyter-widgets/controls",
          "model_name": "HTMLModel",
          "model_module_version": "1.5.0",
          "state": {
            "_dom_classes": [],
            "_model_module": "@jupyter-widgets/controls",
            "_model_module_version": "1.5.0",
            "_model_name": "HTMLModel",
            "_view_count": null,
            "_view_module": "@jupyter-widgets/controls",
            "_view_module_version": "1.5.0",
            "_view_name": "HTMLView",
            "description": "",
            "description_tooltip": null,
            "layout": "IPY_MODEL_747058239f9d4347bae1d1dac128d79f",
            "placeholder": "​",
            "style": "IPY_MODEL_b3b3082b92b04c5383aea7cb3c2923d6",
            "value": "Validation sanity check: 100%"
          }
        },
        "39669d9a50724fac8bdaf349e2d10fbe": {
          "model_module": "@jupyter-widgets/controls",
          "model_name": "FloatProgressModel",
          "model_module_version": "1.5.0",
          "state": {
            "_dom_classes": [],
            "_model_module": "@jupyter-widgets/controls",
            "_model_module_version": "1.5.0",
            "_model_name": "FloatProgressModel",
            "_view_count": null,
            "_view_module": "@jupyter-widgets/controls",
            "_view_module_version": "1.5.0",
            "_view_name": "ProgressView",
            "bar_style": "",
            "description": "",
            "description_tooltip": null,
            "layout": "IPY_MODEL_30ae22975f4143e98dd3869d87724335",
            "max": 2,
            "min": 0,
            "orientation": "horizontal",
            "style": "IPY_MODEL_48b0d962f2e34d5782571f291cba97ae",
            "value": 2
          }
        },
        "07b92bf7d4044389979bb7eec698d8c5": {
          "model_module": "@jupyter-widgets/controls",
          "model_name": "HTMLModel",
          "model_module_version": "1.5.0",
          "state": {
            "_dom_classes": [],
            "_model_module": "@jupyter-widgets/controls",
            "_model_module_version": "1.5.0",
            "_model_name": "HTMLModel",
            "_view_count": null,
            "_view_module": "@jupyter-widgets/controls",
            "_view_module_version": "1.5.0",
            "_view_name": "HTMLView",
            "description": "",
            "description_tooltip": null,
            "layout": "IPY_MODEL_dd480bf345974563aa970a1aff5ab5db",
            "placeholder": "​",
            "style": "IPY_MODEL_c5680493a4be49c4bd6e5422ce75f2fe",
            "value": " 2/2 [00:00&lt;00:00,  2.59it/s]"
          }
        },
        "2a9fdd749213412996b90b98b8a692b5": {
          "model_module": "@jupyter-widgets/base",
          "model_name": "LayoutModel",
          "model_module_version": "1.2.0",
          "state": {
            "_model_module": "@jupyter-widgets/base",
            "_model_module_version": "1.2.0",
            "_model_name": "LayoutModel",
            "_view_count": null,
            "_view_module": "@jupyter-widgets/base",
            "_view_module_version": "1.2.0",
            "_view_name": "LayoutView",
            "align_content": null,
            "align_items": null,
            "align_self": null,
            "border": null,
            "bottom": null,
            "display": "inline-flex",
            "flex": null,
            "flex_flow": "row wrap",
            "grid_area": null,
            "grid_auto_columns": null,
            "grid_auto_flow": null,
            "grid_auto_rows": null,
            "grid_column": null,
            "grid_gap": null,
            "grid_row": null,
            "grid_template_areas": null,
            "grid_template_columns": null,
            "grid_template_rows": null,
            "height": null,
            "justify_content": null,
            "justify_items": null,
            "left": null,
            "margin": null,
            "max_height": null,
            "max_width": null,
            "min_height": null,
            "min_width": null,
            "object_fit": null,
            "object_position": null,
            "order": null,
            "overflow": null,
            "overflow_x": null,
            "overflow_y": null,
            "padding": null,
            "right": null,
            "top": null,
            "visibility": "hidden",
            "width": "100%"
          }
        },
        "747058239f9d4347bae1d1dac128d79f": {
          "model_module": "@jupyter-widgets/base",
          "model_name": "LayoutModel",
          "model_module_version": "1.2.0",
          "state": {
            "_model_module": "@jupyter-widgets/base",
            "_model_module_version": "1.2.0",
            "_model_name": "LayoutModel",
            "_view_count": null,
            "_view_module": "@jupyter-widgets/base",
            "_view_module_version": "1.2.0",
            "_view_name": "LayoutView",
            "align_content": null,
            "align_items": null,
            "align_self": null,
            "border": null,
            "bottom": null,
            "display": null,
            "flex": null,
            "flex_flow": null,
            "grid_area": null,
            "grid_auto_columns": null,
            "grid_auto_flow": null,
            "grid_auto_rows": null,
            "grid_column": null,
            "grid_gap": null,
            "grid_row": null,
            "grid_template_areas": null,
            "grid_template_columns": null,
            "grid_template_rows": null,
            "height": null,
            "justify_content": null,
            "justify_items": null,
            "left": null,
            "margin": null,
            "max_height": null,
            "max_width": null,
            "min_height": null,
            "min_width": null,
            "object_fit": null,
            "object_position": null,
            "order": null,
            "overflow": null,
            "overflow_x": null,
            "overflow_y": null,
            "padding": null,
            "right": null,
            "top": null,
            "visibility": null,
            "width": null
          }
        },
        "b3b3082b92b04c5383aea7cb3c2923d6": {
          "model_module": "@jupyter-widgets/controls",
          "model_name": "DescriptionStyleModel",
          "model_module_version": "1.5.0",
          "state": {
            "_model_module": "@jupyter-widgets/controls",
            "_model_module_version": "1.5.0",
            "_model_name": "DescriptionStyleModel",
            "_view_count": null,
            "_view_module": "@jupyter-widgets/base",
            "_view_module_version": "1.2.0",
            "_view_name": "StyleView",
            "description_width": ""
          }
        },
        "30ae22975f4143e98dd3869d87724335": {
          "model_module": "@jupyter-widgets/base",
          "model_name": "LayoutModel",
          "model_module_version": "1.2.0",
          "state": {
            "_model_module": "@jupyter-widgets/base",
            "_model_module_version": "1.2.0",
            "_model_name": "LayoutModel",
            "_view_count": null,
            "_view_module": "@jupyter-widgets/base",
            "_view_module_version": "1.2.0",
            "_view_name": "LayoutView",
            "align_content": null,
            "align_items": null,
            "align_self": null,
            "border": null,
            "bottom": null,
            "display": null,
            "flex": "2",
            "flex_flow": null,
            "grid_area": null,
            "grid_auto_columns": null,
            "grid_auto_flow": null,
            "grid_auto_rows": null,
            "grid_column": null,
            "grid_gap": null,
            "grid_row": null,
            "grid_template_areas": null,
            "grid_template_columns": null,
            "grid_template_rows": null,
            "height": null,
            "justify_content": null,
            "justify_items": null,
            "left": null,
            "margin": null,
            "max_height": null,
            "max_width": null,
            "min_height": null,
            "min_width": null,
            "object_fit": null,
            "object_position": null,
            "order": null,
            "overflow": null,
            "overflow_x": null,
            "overflow_y": null,
            "padding": null,
            "right": null,
            "top": null,
            "visibility": null,
            "width": null
          }
        },
        "48b0d962f2e34d5782571f291cba97ae": {
          "model_module": "@jupyter-widgets/controls",
          "model_name": "ProgressStyleModel",
          "model_module_version": "1.5.0",
          "state": {
            "_model_module": "@jupyter-widgets/controls",
            "_model_module_version": "1.5.0",
            "_model_name": "ProgressStyleModel",
            "_view_count": null,
            "_view_module": "@jupyter-widgets/base",
            "_view_module_version": "1.2.0",
            "_view_name": "StyleView",
            "bar_color": null,
            "description_width": ""
          }
        },
        "dd480bf345974563aa970a1aff5ab5db": {
          "model_module": "@jupyter-widgets/base",
          "model_name": "LayoutModel",
          "model_module_version": "1.2.0",
          "state": {
            "_model_module": "@jupyter-widgets/base",
            "_model_module_version": "1.2.0",
            "_model_name": "LayoutModel",
            "_view_count": null,
            "_view_module": "@jupyter-widgets/base",
            "_view_module_version": "1.2.0",
            "_view_name": "LayoutView",
            "align_content": null,
            "align_items": null,
            "align_self": null,
            "border": null,
            "bottom": null,
            "display": null,
            "flex": null,
            "flex_flow": null,
            "grid_area": null,
            "grid_auto_columns": null,
            "grid_auto_flow": null,
            "grid_auto_rows": null,
            "grid_column": null,
            "grid_gap": null,
            "grid_row": null,
            "grid_template_areas": null,
            "grid_template_columns": null,
            "grid_template_rows": null,
            "height": null,
            "justify_content": null,
            "justify_items": null,
            "left": null,
            "margin": null,
            "max_height": null,
            "max_width": null,
            "min_height": null,
            "min_width": null,
            "object_fit": null,
            "object_position": null,
            "order": null,
            "overflow": null,
            "overflow_x": null,
            "overflow_y": null,
            "padding": null,
            "right": null,
            "top": null,
            "visibility": null,
            "width": null
          }
        },
        "c5680493a4be49c4bd6e5422ce75f2fe": {
          "model_module": "@jupyter-widgets/controls",
          "model_name": "DescriptionStyleModel",
          "model_module_version": "1.5.0",
          "state": {
            "_model_module": "@jupyter-widgets/controls",
            "_model_module_version": "1.5.0",
            "_model_name": "DescriptionStyleModel",
            "_view_count": null,
            "_view_module": "@jupyter-widgets/base",
            "_view_module_version": "1.2.0",
            "_view_name": "StyleView",
            "description_width": ""
          }
        },
        "882e772bbb284b94a0730912b9bde6df": {
          "model_module": "@jupyter-widgets/controls",
          "model_name": "HBoxModel",
          "model_module_version": "1.5.0",
          "state": {
            "_dom_classes": [],
            "_model_module": "@jupyter-widgets/controls",
            "_model_module_version": "1.5.0",
            "_model_name": "HBoxModel",
            "_view_count": null,
            "_view_module": "@jupyter-widgets/controls",
            "_view_module_version": "1.5.0",
            "_view_name": "HBoxView",
            "box_style": "",
            "children": [
              "IPY_MODEL_b09e907c05904b338d44f0baeeb6c6bc",
              "IPY_MODEL_825d7daf7e9142328bdc0dcab5f6df8c",
              "IPY_MODEL_7ab1aafcdf164935adcf72ad36b485bb"
            ],
            "layout": "IPY_MODEL_026db7db992a48bcad960a6e28a7253d"
          }
        },
        "b09e907c05904b338d44f0baeeb6c6bc": {
          "model_module": "@jupyter-widgets/controls",
          "model_name": "HTMLModel",
          "model_module_version": "1.5.0",
          "state": {
            "_dom_classes": [],
            "_model_module": "@jupyter-widgets/controls",
            "_model_module_version": "1.5.0",
            "_model_name": "HTMLModel",
            "_view_count": null,
            "_view_module": "@jupyter-widgets/controls",
            "_view_module_version": "1.5.0",
            "_view_name": "HTMLView",
            "description": "",
            "description_tooltip": null,
            "layout": "IPY_MODEL_2b00e8e2c61344a6849308c25bd534f6",
            "placeholder": "​",
            "style": "IPY_MODEL_4db56ff28f2e4083b3a933309c160047",
            "value": "Epoch 0:   2%"
          }
        },
        "825d7daf7e9142328bdc0dcab5f6df8c": {
          "model_module": "@jupyter-widgets/controls",
          "model_name": "FloatProgressModel",
          "model_module_version": "1.5.0",
          "state": {
            "_dom_classes": [],
            "_model_module": "@jupyter-widgets/controls",
            "_model_module_version": "1.5.0",
            "_model_name": "FloatProgressModel",
            "_view_count": null,
            "_view_module": "@jupyter-widgets/controls",
            "_view_module_version": "1.5.0",
            "_view_name": "ProgressView",
            "bar_style": "",
            "description": "",
            "description_tooltip": null,
            "layout": "IPY_MODEL_efb09060006a4c769d221647813a897b",
            "max": 20819,
            "min": 0,
            "orientation": "horizontal",
            "style": "IPY_MODEL_6cf235e7744c42a08e40256a514f5294",
            "value": 340
          }
        },
        "7ab1aafcdf164935adcf72ad36b485bb": {
          "model_module": "@jupyter-widgets/controls",
          "model_name": "HTMLModel",
          "model_module_version": "1.5.0",
          "state": {
            "_dom_classes": [],
            "_model_module": "@jupyter-widgets/controls",
            "_model_module_version": "1.5.0",
            "_model_name": "HTMLModel",
            "_view_count": null,
            "_view_module": "@jupyter-widgets/controls",
            "_view_module_version": "1.5.0",
            "_view_name": "HTMLView",
            "description": "",
            "description_tooltip": null,
            "layout": "IPY_MODEL_4ec798a5c3304ae3b0734473fcd39577",
            "placeholder": "​",
            "style": "IPY_MODEL_dbf11c92eeca49fb888cf5ce6d728852",
            "value": " 340/20819 [03:58&lt;3:59:37,  1.42it/s, loss=0.188, v_num=0, train_loss=0.136]"
          }
        },
        "026db7db992a48bcad960a6e28a7253d": {
          "model_module": "@jupyter-widgets/base",
          "model_name": "LayoutModel",
          "model_module_version": "1.2.0",
          "state": {
            "_model_module": "@jupyter-widgets/base",
            "_model_module_version": "1.2.0",
            "_model_name": "LayoutModel",
            "_view_count": null,
            "_view_module": "@jupyter-widgets/base",
            "_view_module_version": "1.2.0",
            "_view_name": "LayoutView",
            "align_content": null,
            "align_items": null,
            "align_self": null,
            "border": null,
            "bottom": null,
            "display": "inline-flex",
            "flex": null,
            "flex_flow": "row wrap",
            "grid_area": null,
            "grid_auto_columns": null,
            "grid_auto_flow": null,
            "grid_auto_rows": null,
            "grid_column": null,
            "grid_gap": null,
            "grid_row": null,
            "grid_template_areas": null,
            "grid_template_columns": null,
            "grid_template_rows": null,
            "height": null,
            "justify_content": null,
            "justify_items": null,
            "left": null,
            "margin": null,
            "max_height": null,
            "max_width": null,
            "min_height": null,
            "min_width": null,
            "object_fit": null,
            "object_position": null,
            "order": null,
            "overflow": null,
            "overflow_x": null,
            "overflow_y": null,
            "padding": null,
            "right": null,
            "top": null,
            "visibility": null,
            "width": "100%"
          }
        },
        "2b00e8e2c61344a6849308c25bd534f6": {
          "model_module": "@jupyter-widgets/base",
          "model_name": "LayoutModel",
          "model_module_version": "1.2.0",
          "state": {
            "_model_module": "@jupyter-widgets/base",
            "_model_module_version": "1.2.0",
            "_model_name": "LayoutModel",
            "_view_count": null,
            "_view_module": "@jupyter-widgets/base",
            "_view_module_version": "1.2.0",
            "_view_name": "LayoutView",
            "align_content": null,
            "align_items": null,
            "align_self": null,
            "border": null,
            "bottom": null,
            "display": null,
            "flex": null,
            "flex_flow": null,
            "grid_area": null,
            "grid_auto_columns": null,
            "grid_auto_flow": null,
            "grid_auto_rows": null,
            "grid_column": null,
            "grid_gap": null,
            "grid_row": null,
            "grid_template_areas": null,
            "grid_template_columns": null,
            "grid_template_rows": null,
            "height": null,
            "justify_content": null,
            "justify_items": null,
            "left": null,
            "margin": null,
            "max_height": null,
            "max_width": null,
            "min_height": null,
            "min_width": null,
            "object_fit": null,
            "object_position": null,
            "order": null,
            "overflow": null,
            "overflow_x": null,
            "overflow_y": null,
            "padding": null,
            "right": null,
            "top": null,
            "visibility": null,
            "width": null
          }
        },
        "4db56ff28f2e4083b3a933309c160047": {
          "model_module": "@jupyter-widgets/controls",
          "model_name": "DescriptionStyleModel",
          "model_module_version": "1.5.0",
          "state": {
            "_model_module": "@jupyter-widgets/controls",
            "_model_module_version": "1.5.0",
            "_model_name": "DescriptionStyleModel",
            "_view_count": null,
            "_view_module": "@jupyter-widgets/base",
            "_view_module_version": "1.2.0",
            "_view_name": "StyleView",
            "description_width": ""
          }
        },
        "efb09060006a4c769d221647813a897b": {
          "model_module": "@jupyter-widgets/base",
          "model_name": "LayoutModel",
          "model_module_version": "1.2.0",
          "state": {
            "_model_module": "@jupyter-widgets/base",
            "_model_module_version": "1.2.0",
            "_model_name": "LayoutModel",
            "_view_count": null,
            "_view_module": "@jupyter-widgets/base",
            "_view_module_version": "1.2.0",
            "_view_name": "LayoutView",
            "align_content": null,
            "align_items": null,
            "align_self": null,
            "border": null,
            "bottom": null,
            "display": null,
            "flex": "2",
            "flex_flow": null,
            "grid_area": null,
            "grid_auto_columns": null,
            "grid_auto_flow": null,
            "grid_auto_rows": null,
            "grid_column": null,
            "grid_gap": null,
            "grid_row": null,
            "grid_template_areas": null,
            "grid_template_columns": null,
            "grid_template_rows": null,
            "height": null,
            "justify_content": null,
            "justify_items": null,
            "left": null,
            "margin": null,
            "max_height": null,
            "max_width": null,
            "min_height": null,
            "min_width": null,
            "object_fit": null,
            "object_position": null,
            "order": null,
            "overflow": null,
            "overflow_x": null,
            "overflow_y": null,
            "padding": null,
            "right": null,
            "top": null,
            "visibility": null,
            "width": null
          }
        },
        "6cf235e7744c42a08e40256a514f5294": {
          "model_module": "@jupyter-widgets/controls",
          "model_name": "ProgressStyleModel",
          "model_module_version": "1.5.0",
          "state": {
            "_model_module": "@jupyter-widgets/controls",
            "_model_module_version": "1.5.0",
            "_model_name": "ProgressStyleModel",
            "_view_count": null,
            "_view_module": "@jupyter-widgets/base",
            "_view_module_version": "1.2.0",
            "_view_name": "StyleView",
            "bar_color": null,
            "description_width": ""
          }
        },
        "4ec798a5c3304ae3b0734473fcd39577": {
          "model_module": "@jupyter-widgets/base",
          "model_name": "LayoutModel",
          "model_module_version": "1.2.0",
          "state": {
            "_model_module": "@jupyter-widgets/base",
            "_model_module_version": "1.2.0",
            "_model_name": "LayoutModel",
            "_view_count": null,
            "_view_module": "@jupyter-widgets/base",
            "_view_module_version": "1.2.0",
            "_view_name": "LayoutView",
            "align_content": null,
            "align_items": null,
            "align_self": null,
            "border": null,
            "bottom": null,
            "display": null,
            "flex": null,
            "flex_flow": null,
            "grid_area": null,
            "grid_auto_columns": null,
            "grid_auto_flow": null,
            "grid_auto_rows": null,
            "grid_column": null,
            "grid_gap": null,
            "grid_row": null,
            "grid_template_areas": null,
            "grid_template_columns": null,
            "grid_template_rows": null,
            "height": null,
            "justify_content": null,
            "justify_items": null,
            "left": null,
            "margin": null,
            "max_height": null,
            "max_width": null,
            "min_height": null,
            "min_width": null,
            "object_fit": null,
            "object_position": null,
            "order": null,
            "overflow": null,
            "overflow_x": null,
            "overflow_y": null,
            "padding": null,
            "right": null,
            "top": null,
            "visibility": null,
            "width": null
          }
        },
        "dbf11c92eeca49fb888cf5ce6d728852": {
          "model_module": "@jupyter-widgets/controls",
          "model_name": "DescriptionStyleModel",
          "model_module_version": "1.5.0",
          "state": {
            "_model_module": "@jupyter-widgets/controls",
            "_model_module_version": "1.5.0",
            "_model_name": "DescriptionStyleModel",
            "_view_count": null,
            "_view_module": "@jupyter-widgets/base",
            "_view_module_version": "1.2.0",
            "_view_name": "StyleView",
            "description_width": ""
          }
        },
        "a62e3aa2202b4487a8a5b3be215c80a3": {
          "model_module": "@jupyter-widgets/controls",
          "model_name": "HBoxModel",
          "model_module_version": "1.5.0",
          "state": {
            "_dom_classes": [],
            "_model_module": "@jupyter-widgets/controls",
            "_model_module_version": "1.5.0",
            "_model_name": "HBoxModel",
            "_view_count": null,
            "_view_module": "@jupyter-widgets/controls",
            "_view_module_version": "1.5.0",
            "_view_name": "HBoxView",
            "box_style": "",
            "children": [
              "IPY_MODEL_f63573367cec4266afcb13e6c0109d56",
              "IPY_MODEL_d0e9e45f3d5c4bd0acf5e876189750b7",
              "IPY_MODEL_634c1e62e0fc43beabc6d1477a048f9e"
            ],
            "layout": "IPY_MODEL_f8c76d1d684a4f11a657648dd5fbafa8"
          }
        },
        "f63573367cec4266afcb13e6c0109d56": {
          "model_module": "@jupyter-widgets/controls",
          "model_name": "HTMLModel",
          "model_module_version": "1.5.0",
          "state": {
            "_dom_classes": [],
            "_model_module": "@jupyter-widgets/controls",
            "_model_module_version": "1.5.0",
            "_model_name": "HTMLModel",
            "_view_count": null,
            "_view_module": "@jupyter-widgets/controls",
            "_view_module_version": "1.5.0",
            "_view_name": "HTMLView",
            "description": "",
            "description_tooltip": null,
            "layout": "IPY_MODEL_2d03c5129d314da98329a4f49e116d7a",
            "placeholder": "​",
            "style": "IPY_MODEL_8591160aebc2467e801b9b93db047530",
            "value": "Downloading (…)ve/main/spiece.model: 100%"
          }
        },
        "d0e9e45f3d5c4bd0acf5e876189750b7": {
          "model_module": "@jupyter-widgets/controls",
          "model_name": "FloatProgressModel",
          "model_module_version": "1.5.0",
          "state": {
            "_dom_classes": [],
            "_model_module": "@jupyter-widgets/controls",
            "_model_module_version": "1.5.0",
            "_model_name": "FloatProgressModel",
            "_view_count": null,
            "_view_module": "@jupyter-widgets/controls",
            "_view_module_version": "1.5.0",
            "_view_name": "ProgressView",
            "bar_style": "success",
            "description": "",
            "description_tooltip": null,
            "layout": "IPY_MODEL_df9e6e7d71e84a5ea0017f12794ea1f7",
            "max": 791656,
            "min": 0,
            "orientation": "horizontal",
            "style": "IPY_MODEL_27ee3d23627c4169a3bec119a19323aa",
            "value": 791656
          }
        },
        "634c1e62e0fc43beabc6d1477a048f9e": {
          "model_module": "@jupyter-widgets/controls",
          "model_name": "HTMLModel",
          "model_module_version": "1.5.0",
          "state": {
            "_dom_classes": [],
            "_model_module": "@jupyter-widgets/controls",
            "_model_module_version": "1.5.0",
            "_model_name": "HTMLModel",
            "_view_count": null,
            "_view_module": "@jupyter-widgets/controls",
            "_view_module_version": "1.5.0",
            "_view_name": "HTMLView",
            "description": "",
            "description_tooltip": null,
            "layout": "IPY_MODEL_fca8f656ea88445fa4a472b60b8fd3aa",
            "placeholder": "​",
            "style": "IPY_MODEL_cfc9a87233bb4b5cb303a451076d5f2a",
            "value": " 792k/792k [00:00&lt;00:00, 1.02MB/s]"
          }
        },
        "f8c76d1d684a4f11a657648dd5fbafa8": {
          "model_module": "@jupyter-widgets/base",
          "model_name": "LayoutModel",
          "model_module_version": "1.2.0",
          "state": {
            "_model_module": "@jupyter-widgets/base",
            "_model_module_version": "1.2.0",
            "_model_name": "LayoutModel",
            "_view_count": null,
            "_view_module": "@jupyter-widgets/base",
            "_view_module_version": "1.2.0",
            "_view_name": "LayoutView",
            "align_content": null,
            "align_items": null,
            "align_self": null,
            "border": null,
            "bottom": null,
            "display": null,
            "flex": null,
            "flex_flow": null,
            "grid_area": null,
            "grid_auto_columns": null,
            "grid_auto_flow": null,
            "grid_auto_rows": null,
            "grid_column": null,
            "grid_gap": null,
            "grid_row": null,
            "grid_template_areas": null,
            "grid_template_columns": null,
            "grid_template_rows": null,
            "height": null,
            "justify_content": null,
            "justify_items": null,
            "left": null,
            "margin": null,
            "max_height": null,
            "max_width": null,
            "min_height": null,
            "min_width": null,
            "object_fit": null,
            "object_position": null,
            "order": null,
            "overflow": null,
            "overflow_x": null,
            "overflow_y": null,
            "padding": null,
            "right": null,
            "top": null,
            "visibility": null,
            "width": null
          }
        },
        "2d03c5129d314da98329a4f49e116d7a": {
          "model_module": "@jupyter-widgets/base",
          "model_name": "LayoutModel",
          "model_module_version": "1.2.0",
          "state": {
            "_model_module": "@jupyter-widgets/base",
            "_model_module_version": "1.2.0",
            "_model_name": "LayoutModel",
            "_view_count": null,
            "_view_module": "@jupyter-widgets/base",
            "_view_module_version": "1.2.0",
            "_view_name": "LayoutView",
            "align_content": null,
            "align_items": null,
            "align_self": null,
            "border": null,
            "bottom": null,
            "display": null,
            "flex": null,
            "flex_flow": null,
            "grid_area": null,
            "grid_auto_columns": null,
            "grid_auto_flow": null,
            "grid_auto_rows": null,
            "grid_column": null,
            "grid_gap": null,
            "grid_row": null,
            "grid_template_areas": null,
            "grid_template_columns": null,
            "grid_template_rows": null,
            "height": null,
            "justify_content": null,
            "justify_items": null,
            "left": null,
            "margin": null,
            "max_height": null,
            "max_width": null,
            "min_height": null,
            "min_width": null,
            "object_fit": null,
            "object_position": null,
            "order": null,
            "overflow": null,
            "overflow_x": null,
            "overflow_y": null,
            "padding": null,
            "right": null,
            "top": null,
            "visibility": null,
            "width": null
          }
        },
        "8591160aebc2467e801b9b93db047530": {
          "model_module": "@jupyter-widgets/controls",
          "model_name": "DescriptionStyleModel",
          "model_module_version": "1.5.0",
          "state": {
            "_model_module": "@jupyter-widgets/controls",
            "_model_module_version": "1.5.0",
            "_model_name": "DescriptionStyleModel",
            "_view_count": null,
            "_view_module": "@jupyter-widgets/base",
            "_view_module_version": "1.2.0",
            "_view_name": "StyleView",
            "description_width": ""
          }
        },
        "df9e6e7d71e84a5ea0017f12794ea1f7": {
          "model_module": "@jupyter-widgets/base",
          "model_name": "LayoutModel",
          "model_module_version": "1.2.0",
          "state": {
            "_model_module": "@jupyter-widgets/base",
            "_model_module_version": "1.2.0",
            "_model_name": "LayoutModel",
            "_view_count": null,
            "_view_module": "@jupyter-widgets/base",
            "_view_module_version": "1.2.0",
            "_view_name": "LayoutView",
            "align_content": null,
            "align_items": null,
            "align_self": null,
            "border": null,
            "bottom": null,
            "display": null,
            "flex": null,
            "flex_flow": null,
            "grid_area": null,
            "grid_auto_columns": null,
            "grid_auto_flow": null,
            "grid_auto_rows": null,
            "grid_column": null,
            "grid_gap": null,
            "grid_row": null,
            "grid_template_areas": null,
            "grid_template_columns": null,
            "grid_template_rows": null,
            "height": null,
            "justify_content": null,
            "justify_items": null,
            "left": null,
            "margin": null,
            "max_height": null,
            "max_width": null,
            "min_height": null,
            "min_width": null,
            "object_fit": null,
            "object_position": null,
            "order": null,
            "overflow": null,
            "overflow_x": null,
            "overflow_y": null,
            "padding": null,
            "right": null,
            "top": null,
            "visibility": null,
            "width": null
          }
        },
        "27ee3d23627c4169a3bec119a19323aa": {
          "model_module": "@jupyter-widgets/controls",
          "model_name": "ProgressStyleModel",
          "model_module_version": "1.5.0",
          "state": {
            "_model_module": "@jupyter-widgets/controls",
            "_model_module_version": "1.5.0",
            "_model_name": "ProgressStyleModel",
            "_view_count": null,
            "_view_module": "@jupyter-widgets/base",
            "_view_module_version": "1.2.0",
            "_view_name": "StyleView",
            "bar_color": null,
            "description_width": ""
          }
        },
        "fca8f656ea88445fa4a472b60b8fd3aa": {
          "model_module": "@jupyter-widgets/base",
          "model_name": "LayoutModel",
          "model_module_version": "1.2.0",
          "state": {
            "_model_module": "@jupyter-widgets/base",
            "_model_module_version": "1.2.0",
            "_model_name": "LayoutModel",
            "_view_count": null,
            "_view_module": "@jupyter-widgets/base",
            "_view_module_version": "1.2.0",
            "_view_name": "LayoutView",
            "align_content": null,
            "align_items": null,
            "align_self": null,
            "border": null,
            "bottom": null,
            "display": null,
            "flex": null,
            "flex_flow": null,
            "grid_area": null,
            "grid_auto_columns": null,
            "grid_auto_flow": null,
            "grid_auto_rows": null,
            "grid_column": null,
            "grid_gap": null,
            "grid_row": null,
            "grid_template_areas": null,
            "grid_template_columns": null,
            "grid_template_rows": null,
            "height": null,
            "justify_content": null,
            "justify_items": null,
            "left": null,
            "margin": null,
            "max_height": null,
            "max_width": null,
            "min_height": null,
            "min_width": null,
            "object_fit": null,
            "object_position": null,
            "order": null,
            "overflow": null,
            "overflow_x": null,
            "overflow_y": null,
            "padding": null,
            "right": null,
            "top": null,
            "visibility": null,
            "width": null
          }
        },
        "cfc9a87233bb4b5cb303a451076d5f2a": {
          "model_module": "@jupyter-widgets/controls",
          "model_name": "DescriptionStyleModel",
          "model_module_version": "1.5.0",
          "state": {
            "_model_module": "@jupyter-widgets/controls",
            "_model_module_version": "1.5.0",
            "_model_name": "DescriptionStyleModel",
            "_view_count": null,
            "_view_module": "@jupyter-widgets/base",
            "_view_module_version": "1.2.0",
            "_view_name": "StyleView",
            "description_width": ""
          }
        },
        "85b23dc6b50949778187fd8dbf8a4882": {
          "model_module": "@jupyter-widgets/controls",
          "model_name": "HBoxModel",
          "model_module_version": "1.5.0",
          "state": {
            "_dom_classes": [],
            "_model_module": "@jupyter-widgets/controls",
            "_model_module_version": "1.5.0",
            "_model_name": "HBoxModel",
            "_view_count": null,
            "_view_module": "@jupyter-widgets/controls",
            "_view_module_version": "1.5.0",
            "_view_name": "HBoxView",
            "box_style": "",
            "children": [
              "IPY_MODEL_c7a7236cf08245939078b854a6c5fe59",
              "IPY_MODEL_5d45cfa041c24641823aaefc13557907",
              "IPY_MODEL_6c12a9e19e734ac4844f777c57799781"
            ],
            "layout": "IPY_MODEL_5bf048781fb64cc5825cc4ca564959e4"
          }
        },
        "c7a7236cf08245939078b854a6c5fe59": {
          "model_module": "@jupyter-widgets/controls",
          "model_name": "HTMLModel",
          "model_module_version": "1.5.0",
          "state": {
            "_dom_classes": [],
            "_model_module": "@jupyter-widgets/controls",
            "_model_module_version": "1.5.0",
            "_model_name": "HTMLModel",
            "_view_count": null,
            "_view_module": "@jupyter-widgets/controls",
            "_view_module_version": "1.5.0",
            "_view_name": "HTMLView",
            "description": "",
            "description_tooltip": null,
            "layout": "IPY_MODEL_bdc0e9a3429d4c50860780cac5f23862",
            "placeholder": "​",
            "style": "IPY_MODEL_eaf5026a8fc2474882fc9f4805e13bc4",
            "value": "Downloading (…)lve/main/config.json: 100%"
          }
        },
        "5d45cfa041c24641823aaefc13557907": {
          "model_module": "@jupyter-widgets/controls",
          "model_name": "FloatProgressModel",
          "model_module_version": "1.5.0",
          "state": {
            "_dom_classes": [],
            "_model_module": "@jupyter-widgets/controls",
            "_model_module_version": "1.5.0",
            "_model_name": "FloatProgressModel",
            "_view_count": null,
            "_view_module": "@jupyter-widgets/controls",
            "_view_module_version": "1.5.0",
            "_view_name": "ProgressView",
            "bar_style": "success",
            "description": "",
            "description_tooltip": null,
            "layout": "IPY_MODEL_cbd97490901d44218b5d39f1141d2cce",
            "max": 1208,
            "min": 0,
            "orientation": "horizontal",
            "style": "IPY_MODEL_0c62534f85444b608038f14e1f54317e",
            "value": 1208
          }
        },
        "6c12a9e19e734ac4844f777c57799781": {
          "model_module": "@jupyter-widgets/controls",
          "model_name": "HTMLModel",
          "model_module_version": "1.5.0",
          "state": {
            "_dom_classes": [],
            "_model_module": "@jupyter-widgets/controls",
            "_model_module_version": "1.5.0",
            "_model_name": "HTMLModel",
            "_view_count": null,
            "_view_module": "@jupyter-widgets/controls",
            "_view_module_version": "1.5.0",
            "_view_name": "HTMLView",
            "description": "",
            "description_tooltip": null,
            "layout": "IPY_MODEL_e3b295308774411c98e93dc081cb9ff1",
            "placeholder": "​",
            "style": "IPY_MODEL_74cb7be12f494537ad062e2ab912a97f",
            "value": " 1.21k/1.21k [00:00&lt;00:00, 104kB/s]"
          }
        },
        "5bf048781fb64cc5825cc4ca564959e4": {
          "model_module": "@jupyter-widgets/base",
          "model_name": "LayoutModel",
          "model_module_version": "1.2.0",
          "state": {
            "_model_module": "@jupyter-widgets/base",
            "_model_module_version": "1.2.0",
            "_model_name": "LayoutModel",
            "_view_count": null,
            "_view_module": "@jupyter-widgets/base",
            "_view_module_version": "1.2.0",
            "_view_name": "LayoutView",
            "align_content": null,
            "align_items": null,
            "align_self": null,
            "border": null,
            "bottom": null,
            "display": null,
            "flex": null,
            "flex_flow": null,
            "grid_area": null,
            "grid_auto_columns": null,
            "grid_auto_flow": null,
            "grid_auto_rows": null,
            "grid_column": null,
            "grid_gap": null,
            "grid_row": null,
            "grid_template_areas": null,
            "grid_template_columns": null,
            "grid_template_rows": null,
            "height": null,
            "justify_content": null,
            "justify_items": null,
            "left": null,
            "margin": null,
            "max_height": null,
            "max_width": null,
            "min_height": null,
            "min_width": null,
            "object_fit": null,
            "object_position": null,
            "order": null,
            "overflow": null,
            "overflow_x": null,
            "overflow_y": null,
            "padding": null,
            "right": null,
            "top": null,
            "visibility": null,
            "width": null
          }
        },
        "bdc0e9a3429d4c50860780cac5f23862": {
          "model_module": "@jupyter-widgets/base",
          "model_name": "LayoutModel",
          "model_module_version": "1.2.0",
          "state": {
            "_model_module": "@jupyter-widgets/base",
            "_model_module_version": "1.2.0",
            "_model_name": "LayoutModel",
            "_view_count": null,
            "_view_module": "@jupyter-widgets/base",
            "_view_module_version": "1.2.0",
            "_view_name": "LayoutView",
            "align_content": null,
            "align_items": null,
            "align_self": null,
            "border": null,
            "bottom": null,
            "display": null,
            "flex": null,
            "flex_flow": null,
            "grid_area": null,
            "grid_auto_columns": null,
            "grid_auto_flow": null,
            "grid_auto_rows": null,
            "grid_column": null,
            "grid_gap": null,
            "grid_row": null,
            "grid_template_areas": null,
            "grid_template_columns": null,
            "grid_template_rows": null,
            "height": null,
            "justify_content": null,
            "justify_items": null,
            "left": null,
            "margin": null,
            "max_height": null,
            "max_width": null,
            "min_height": null,
            "min_width": null,
            "object_fit": null,
            "object_position": null,
            "order": null,
            "overflow": null,
            "overflow_x": null,
            "overflow_y": null,
            "padding": null,
            "right": null,
            "top": null,
            "visibility": null,
            "width": null
          }
        },
        "eaf5026a8fc2474882fc9f4805e13bc4": {
          "model_module": "@jupyter-widgets/controls",
          "model_name": "DescriptionStyleModel",
          "model_module_version": "1.5.0",
          "state": {
            "_model_module": "@jupyter-widgets/controls",
            "_model_module_version": "1.5.0",
            "_model_name": "DescriptionStyleModel",
            "_view_count": null,
            "_view_module": "@jupyter-widgets/base",
            "_view_module_version": "1.2.0",
            "_view_name": "StyleView",
            "description_width": ""
          }
        },
        "cbd97490901d44218b5d39f1141d2cce": {
          "model_module": "@jupyter-widgets/base",
          "model_name": "LayoutModel",
          "model_module_version": "1.2.0",
          "state": {
            "_model_module": "@jupyter-widgets/base",
            "_model_module_version": "1.2.0",
            "_model_name": "LayoutModel",
            "_view_count": null,
            "_view_module": "@jupyter-widgets/base",
            "_view_module_version": "1.2.0",
            "_view_name": "LayoutView",
            "align_content": null,
            "align_items": null,
            "align_self": null,
            "border": null,
            "bottom": null,
            "display": null,
            "flex": null,
            "flex_flow": null,
            "grid_area": null,
            "grid_auto_columns": null,
            "grid_auto_flow": null,
            "grid_auto_rows": null,
            "grid_column": null,
            "grid_gap": null,
            "grid_row": null,
            "grid_template_areas": null,
            "grid_template_columns": null,
            "grid_template_rows": null,
            "height": null,
            "justify_content": null,
            "justify_items": null,
            "left": null,
            "margin": null,
            "max_height": null,
            "max_width": null,
            "min_height": null,
            "min_width": null,
            "object_fit": null,
            "object_position": null,
            "order": null,
            "overflow": null,
            "overflow_x": null,
            "overflow_y": null,
            "padding": null,
            "right": null,
            "top": null,
            "visibility": null,
            "width": null
          }
        },
        "0c62534f85444b608038f14e1f54317e": {
          "model_module": "@jupyter-widgets/controls",
          "model_name": "ProgressStyleModel",
          "model_module_version": "1.5.0",
          "state": {
            "_model_module": "@jupyter-widgets/controls",
            "_model_module_version": "1.5.0",
            "_model_name": "ProgressStyleModel",
            "_view_count": null,
            "_view_module": "@jupyter-widgets/base",
            "_view_module_version": "1.2.0",
            "_view_name": "StyleView",
            "bar_color": null,
            "description_width": ""
          }
        },
        "e3b295308774411c98e93dc081cb9ff1": {
          "model_module": "@jupyter-widgets/base",
          "model_name": "LayoutModel",
          "model_module_version": "1.2.0",
          "state": {
            "_model_module": "@jupyter-widgets/base",
            "_model_module_version": "1.2.0",
            "_model_name": "LayoutModel",
            "_view_count": null,
            "_view_module": "@jupyter-widgets/base",
            "_view_module_version": "1.2.0",
            "_view_name": "LayoutView",
            "align_content": null,
            "align_items": null,
            "align_self": null,
            "border": null,
            "bottom": null,
            "display": null,
            "flex": null,
            "flex_flow": null,
            "grid_area": null,
            "grid_auto_columns": null,
            "grid_auto_flow": null,
            "grid_auto_rows": null,
            "grid_column": null,
            "grid_gap": null,
            "grid_row": null,
            "grid_template_areas": null,
            "grid_template_columns": null,
            "grid_template_rows": null,
            "height": null,
            "justify_content": null,
            "justify_items": null,
            "left": null,
            "margin": null,
            "max_height": null,
            "max_width": null,
            "min_height": null,
            "min_width": null,
            "object_fit": null,
            "object_position": null,
            "order": null,
            "overflow": null,
            "overflow_x": null,
            "overflow_y": null,
            "padding": null,
            "right": null,
            "top": null,
            "visibility": null,
            "width": null
          }
        },
        "74cb7be12f494537ad062e2ab912a97f": {
          "model_module": "@jupyter-widgets/controls",
          "model_name": "DescriptionStyleModel",
          "model_module_version": "1.5.0",
          "state": {
            "_model_module": "@jupyter-widgets/controls",
            "_model_module_version": "1.5.0",
            "_model_name": "DescriptionStyleModel",
            "_view_count": null,
            "_view_module": "@jupyter-widgets/base",
            "_view_module_version": "1.2.0",
            "_view_name": "StyleView",
            "description_width": ""
          }
        }
      }
    }
  },
  "cells": [
    {
      "cell_type": "code",
      "execution_count": 1,
      "metadata": {
        "id": "9EwIBTN60eHd",
        "colab": {
          "base_uri": "https://localhost:8080/"
        },
        "outputId": "4afba284-61be-4d60-e78e-90b4aa2551fa"
      },
      "outputs": [
        {
          "output_type": "stream",
          "name": "stdout",
          "text": [
            "Reading package lists... Done\n",
            "Building dependency tree... Done\n",
            "Reading state information... Done\n",
            "git is already the newest version (1:2.34.1-1ubuntu1.10).\n",
            "0 upgraded, 0 newly installed, 0 to remove and 16 not upgraded.\n"
          ]
        }
      ],
      "source": [
        "!apt-get install -y git"
      ]
    },
    {
      "cell_type": "code",
      "execution_count": 2,
      "outputs": [
        {
          "output_type": "stream",
          "name": "stdout",
          "text": [
            "Cloning into 'NLP-project'...\n",
            "remote: Enumerating objects: 129, done.\u001b[K\n",
            "remote: Counting objects: 100% (129/129), done.\u001b[K\n",
            "remote: Compressing objects: 100% (98/98), done.\u001b[K\n",
            "remote: Total 129 (delta 62), reused 85 (delta 26), pack-reused 0\u001b[K\n",
            "Receiving objects: 100% (129/129), 7.61 MiB | 7.74 MiB/s, done.\n",
            "Resolving deltas: 100% (62/62), done.\n"
          ]
        }
      ],
      "source": [
        "! rm -rf NLP-project\n",
        "! git clone https://github.com/ReviBa/NLP-project\n",
        "! cp -rf NLP-project/* ."
      ],
      "metadata": {
        "id": "xTEOTCEBkKYC",
        "outputId": "0995ac7c-0670-4288-baa1-187b6eca68b8",
        "colab": {
          "base_uri": "https://localhost:8080/"
        }
      }
    },
    {
      "cell_type": "code",
      "execution_count": 3,
      "outputs": [
        {
          "output_type": "stream",
          "name": "stdout",
          "text": [
            "\u001b[2K     \u001b[90m━━━━━━━━━━━━━━━━━━━━━━━━━━━━━━━━━━━━━━━━\u001b[0m \u001b[32m6.8/6.8 MB\u001b[0m \u001b[31m15.6 MB/s\u001b[0m eta \u001b[36m0:00:00\u001b[0m\n",
            "\u001b[2K     \u001b[90m━━━━━━━━━━━━━━━━━━━━━━━━━━━━━━━━━━━━━━\u001b[0m \u001b[32m123.8/123.8 kB\u001b[0m \u001b[31m16.4 MB/s\u001b[0m eta \u001b[36m0:00:00\u001b[0m\n",
            "\u001b[2K     \u001b[90m━━━━━━━━━━━━━━━━━━━━━━━━━━━━━━━━━━━━━━━━\u001b[0m \u001b[32m1.3/1.3 MB\u001b[0m \u001b[31m27.6 MB/s\u001b[0m eta \u001b[36m0:00:00\u001b[0m\n",
            "\u001b[2K     \u001b[90m━━━━━━━━━━━━━━━━━━━━━━━━━━━━━━━━━━━━━━━━\u001b[0m \u001b[32m86.0/86.0 kB\u001b[0m \u001b[31m8.8 MB/s\u001b[0m eta \u001b[36m0:00:00\u001b[0m\n",
            "\u001b[?25h  Preparing metadata (setup.py) ... \u001b[?25l\u001b[?25hdone\n",
            "\u001b[2K     \u001b[90m━━━━━━━━━━━━━━━━━━━━━━━━━━━━━━━━━━━━━━\u001b[0m \u001b[32m527.7/527.7 kB\u001b[0m \u001b[31m24.5 MB/s\u001b[0m eta \u001b[36m0:00:00\u001b[0m\n",
            "\u001b[2K     \u001b[90m━━━━━━━━━━━━━━━━━━━━━━━━━━━━━━━━━━━━━━\u001b[0m \u001b[32m519.3/519.3 kB\u001b[0m \u001b[31m32.1 MB/s\u001b[0m eta \u001b[36m0:00:00\u001b[0m\n",
            "\u001b[2K     \u001b[90m━━━━━━━━━━━━━━━━━━━━━━━━━━━━━━━━━━━━━━\u001b[0m \u001b[32m268.8/268.8 kB\u001b[0m \u001b[31m24.8 MB/s\u001b[0m eta \u001b[36m0:00:00\u001b[0m\n",
            "\u001b[2K     \u001b[90m━━━━━━━━━━━━━━━━━━━━━━━━━━━━━━━━━━━━━━━━\u001b[0m \u001b[32m7.8/7.8 MB\u001b[0m \u001b[31m41.6 MB/s\u001b[0m eta \u001b[36m0:00:00\u001b[0m\n",
            "\u001b[2K     \u001b[90m━━━━━━━━━━━━━━━━━━━━━━━━━━━━━━━━━━━━━━\u001b[0m \u001b[32m763.4/763.4 kB\u001b[0m \u001b[31m50.0 MB/s\u001b[0m eta \u001b[36m0:00:00\u001b[0m\n",
            "\u001b[2K     \u001b[90m━━━━━━━━━━━━━━━━━━━━━━━━━━━━━━━━━━━━━━\u001b[0m \u001b[32m952.4/952.4 kB\u001b[0m \u001b[31m42.1 MB/s\u001b[0m eta \u001b[36m0:00:00\u001b[0m\n",
            "\u001b[2K     \u001b[90m━━━━━━━━━━━━━━━━━━━━━━━━━━━━━━━━━━━━━━\u001b[0m \u001b[32m135.8/135.8 kB\u001b[0m \u001b[31m13.0 MB/s\u001b[0m eta \u001b[36m0:00:00\u001b[0m\n",
            "\u001b[2K     \u001b[90m━━━━━━━━━━━━━━━━━━━━━━━━━━━━━━━━━━━━━━\u001b[0m \u001b[32m115.3/115.3 kB\u001b[0m \u001b[31m14.8 MB/s\u001b[0m eta \u001b[36m0:00:00\u001b[0m\n",
            "\u001b[2K     \u001b[90m━━━━━━━━━━━━━━━━━━━━━━━━━━━━━━━━━━━━━━\u001b[0m \u001b[32m194.1/194.1 kB\u001b[0m \u001b[31m23.1 MB/s\u001b[0m eta \u001b[36m0:00:00\u001b[0m\n",
            "\u001b[2K     \u001b[90m━━━━━━━━━━━━━━━━━━━━━━━━━━━━━━━━━━━━━━\u001b[0m \u001b[32m134.8/134.8 kB\u001b[0m \u001b[31m17.8 MB/s\u001b[0m eta \u001b[36m0:00:00\u001b[0m\n",
            "\u001b[2K     \u001b[90m━━━━━━━━━━━━━━━━━━━━━━━━━━━━━━━━━━━━━━━━\u001b[0m \u001b[32m11.1/11.1 MB\u001b[0m \u001b[31m61.5 MB/s\u001b[0m eta \u001b[36m0:00:00\u001b[0m\n",
            "\u001b[2K     \u001b[90m━━━━━━━━━━━━━━━━━━━━━━━━━━━━━━━━━━━━━━━━\u001b[0m \u001b[32m79.8/79.8 kB\u001b[0m \u001b[31m10.0 MB/s\u001b[0m eta \u001b[36m0:00:00\u001b[0m\n",
            "\u001b[2K     \u001b[90m━━━━━━━━━━━━━━━━━━━━━━━━━━━━━━━━━━━━━━\u001b[0m \u001b[32m143.1/143.1 kB\u001b[0m \u001b[31m17.2 MB/s\u001b[0m eta \u001b[36m0:00:00\u001b[0m\n",
            "\u001b[?25h  Building wheel for sentence_transformers (setup.py) ... \u001b[?25l\u001b[?25hdone\n",
            "\u001b[31mERROR: pip's dependency resolver does not currently take into account all the packages that are installed. This behaviour is the source of the following dependency conflicts.\n",
            "ipython 7.34.0 requires jedi>=0.16, which is not installed.\n",
            "arviz 0.15.1 requires setuptools>=60.0.0, but you have setuptools 59.5.0 which is incompatible.\n",
            "cvxpy 1.3.2 requires setuptools>65.5.1, but you have setuptools 59.5.0 which is incompatible.\u001b[0m\u001b[31m\n",
            "\u001b[0m"
          ]
        }
      ],
      "source": [
        "! pip install --q -r /content/requirements.txt"
      ],
      "metadata": {
        "id": "QW18ogUwkKYC",
        "colab": {
          "base_uri": "https://localhost:8080/"
        },
        "outputId": "50cf09cf-ce49-4771-83c5-4fadef23a293"
      }
    },
    {
      "cell_type": "code",
      "source": [
        "from t5.train import t5_train\n",
        "from utils.tokens_utils import get_tokenizer_based_on_data, get_max_tokens_number\n",
        "from context_manager import DialogContextManager\n",
        "from transformers import T5Tokenizer\n",
        "from t5.model import T5Model\n",
        "import pandas as pd\n",
        "import warnings\n",
        "import torch"
      ],
      "metadata": {
        "id": "jlo0gV9VpJBa"
      },
      "execution_count": 4,
      "outputs": []
    },
    {
      "cell_type": "markdown",
      "metadata": {
        "id": "7lQ3F0D_1Wxl"
      },
      "source": [
        "Set warnings filter to ignore:"
      ]
    },
    {
      "cell_type": "code",
      "execution_count": 5,
      "metadata": {
        "id": "frCsAYXS1W3W"
      },
      "outputs": [],
      "source": [
        "warnings.filterwarnings('ignore')\n"
      ]
    },
    {
      "cell_type": "code",
      "execution_count": 6,
      "metadata": {
        "id": "48JDaa1s1hrQ"
      },
      "outputs": [],
      "source": [
        "DEVICE = 'cuda' if torch.cuda.is_available() else 'cpu'\n",
        "assert DEVICE == 'cuda'"
      ]
    },
    {
      "cell_type": "code",
      "source": [
        "MODEL_NAME = \"t5-base\"\n",
        "# small batch size because cuda gets out of memory\n",
        "BATCH_SIZE = 2\n",
        "PATH = \"/content/resources/daily_dialog_for_training.csv\"\n",
        "SAVE_TO_CHECKPOINT = \"Option3-trained-on-daily-dialog-splitted-corpus-second-epoch\""
      ],
      "metadata": {
        "id": "KAzYvA_MpNEc"
      },
      "execution_count": 7,
      "outputs": []
    },
    {
      "cell_type": "code",
      "source": [
        "train_df = pd.read_csv(PATH)"
      ],
      "metadata": {
        "id": "k3VJV0rEqKgF"
      },
      "execution_count": 8,
      "outputs": []
    },
    {
      "cell_type": "markdown",
      "source": [
        "Add tokens from this dataset that are unknown for T5 tokenizer"
      ],
      "metadata": {
        "id": "sVWu6qVSrFDZ"
      }
    },
    {
      "cell_type": "code",
      "source": [
        "cols = ['input', 'target']\n",
        "train_df =  train_df.rename(columns={'question': cols[0], 'answer': cols[1]})[cols]"
      ],
      "metadata": {
        "id": "CjQooEA1rb_j"
      },
      "execution_count": 9,
      "outputs": []
    },
    {
      "cell_type": "code",
      "source": [
        "tokenizer = get_tokenizer_based_on_data(train_df, *cols)\n",
        "i_max_token_len, o_max_token_len = get_max_tokens_number(train_df, *cols)"
      ],
      "metadata": {
        "id": "4j8_OHK_q4hF",
        "colab": {
          "base_uri": "https://localhost:8080/",
          "height": 81,
          "referenced_widgets": [
            "a62e3aa2202b4487a8a5b3be215c80a3",
            "f63573367cec4266afcb13e6c0109d56",
            "d0e9e45f3d5c4bd0acf5e876189750b7",
            "634c1e62e0fc43beabc6d1477a048f9e",
            "f8c76d1d684a4f11a657648dd5fbafa8",
            "2d03c5129d314da98329a4f49e116d7a",
            "8591160aebc2467e801b9b93db047530",
            "df9e6e7d71e84a5ea0017f12794ea1f7",
            "27ee3d23627c4169a3bec119a19323aa",
            "fca8f656ea88445fa4a472b60b8fd3aa",
            "cfc9a87233bb4b5cb303a451076d5f2a",
            "85b23dc6b50949778187fd8dbf8a4882",
            "c7a7236cf08245939078b854a6c5fe59",
            "5d45cfa041c24641823aaefc13557907",
            "6c12a9e19e734ac4844f777c57799781",
            "5bf048781fb64cc5825cc4ca564959e4",
            "bdc0e9a3429d4c50860780cac5f23862",
            "eaf5026a8fc2474882fc9f4805e13bc4",
            "cbd97490901d44218b5d39f1141d2cce",
            "0c62534f85444b608038f14e1f54317e",
            "e3b295308774411c98e93dc081cb9ff1",
            "74cb7be12f494537ad062e2ab912a97f"
          ]
        },
        "outputId": "2c39e2f9-b536-483d-c080-7067380c4487"
      },
      "execution_count": 10,
      "outputs": [
        {
          "output_type": "display_data",
          "data": {
            "text/plain": [
              "Downloading (…)ve/main/spiece.model:   0%|          | 0.00/792k [00:00<?, ?B/s]"
            ],
            "application/vnd.jupyter.widget-view+json": {
              "version_major": 2,
              "version_minor": 0,
              "model_id": "a62e3aa2202b4487a8a5b3be215c80a3"
            }
          },
          "metadata": {}
        },
        {
          "output_type": "display_data",
          "data": {
            "text/plain": [
              "Downloading (…)lve/main/config.json:   0%|          | 0.00/1.21k [00:00<?, ?B/s]"
            ],
            "application/vnd.jupyter.widget-view+json": {
              "version_major": 2,
              "version_minor": 0,
              "model_id": "85b23dc6b50949778187fd8dbf8a4882"
            }
          },
          "metadata": {}
        }
      ]
    },
    {
      "cell_type": "code",
      "source": [
        "trained_model, trainer = t5_train(train_df, DEVICE, tokenizer,\n",
        "                                  MODEL_NAME, i_max_token_len, o_max_token_len, train_batch_size=BATCH_SIZE,\n",
        "                                  test_batch_size=BATCH_SIZE, epochs=2, save_to_checkpoint=SAVE_TO_CHECKPOINT)"
      ],
      "metadata": {
        "colab": {
          "base_uri": "https://localhost:8080/",
          "height": 312,
          "referenced_widgets": [
            "fbb9e951d7604933987d75ef41d649b9",
            "2fe982b47b1d44eda6f9638a43ada024",
            "39669d9a50724fac8bdaf349e2d10fbe",
            "07b92bf7d4044389979bb7eec698d8c5",
            "2a9fdd749213412996b90b98b8a692b5",
            "747058239f9d4347bae1d1dac128d79f",
            "b3b3082b92b04c5383aea7cb3c2923d6",
            "30ae22975f4143e98dd3869d87724335",
            "48b0d962f2e34d5782571f291cba97ae",
            "dd480bf345974563aa970a1aff5ab5db",
            "c5680493a4be49c4bd6e5422ce75f2fe",
            "882e772bbb284b94a0730912b9bde6df",
            "b09e907c05904b338d44f0baeeb6c6bc",
            "825d7daf7e9142328bdc0dcab5f6df8c",
            "7ab1aafcdf164935adcf72ad36b485bb",
            "026db7db992a48bcad960a6e28a7253d",
            "2b00e8e2c61344a6849308c25bd534f6",
            "4db56ff28f2e4083b3a933309c160047",
            "efb09060006a4c769d221647813a897b",
            "6cf235e7744c42a08e40256a514f5294",
            "4ec798a5c3304ae3b0734473fcd39577",
            "dbf11c92eeca49fb888cf5ce6d728852"
          ]
        },
        "id": "LXuI7eETrXu9",
        "outputId": "7ce99397-8f24-4174-a506-fc17593c5060"
      },
      "execution_count": null,
      "outputs": [
        {
          "output_type": "stream",
          "name": "stderr",
          "text": [
            "INFO:pytorch_lightning.utilities.distributed:GPU available: True, used: True\n",
            "INFO:pytorch_lightning.utilities.distributed:TPU available: False, using: 0 TPU cores\n",
            "INFO:pytorch_lightning.utilities.distributed:IPU available: False, using: 0 IPUs\n",
            "INFO:pytorch_lightning.accelerators.gpu:LOCAL_RANK: 0 - CUDA_VISIBLE_DEVICES: [0]\n",
            "WARNING:pytorch_lightning.loggers.tensorboard:Missing logger folder: /content/lightning_logs\n",
            "INFO:pytorch_lightning.callbacks.model_summary:\n",
            "  | Name  | Type                       | Params\n",
            "-----------------------------------------------------\n",
            "0 | model | T5ForConditionalGeneration | 235 M \n",
            "-----------------------------------------------------\n",
            "235 M     Trainable params\n",
            "0         Non-trainable params\n",
            "235 M     Total params\n",
            "940.152   Total estimated model params size (MB)\n"
          ]
        },
        {
          "output_type": "display_data",
          "data": {
            "text/plain": [
              "Validation sanity check: 0it [00:00, ?it/s]"
            ],
            "application/vnd.jupyter.widget-view+json": {
              "version_major": 2,
              "version_minor": 0,
              "model_id": "fbb9e951d7604933987d75ef41d649b9"
            }
          },
          "metadata": {}
        },
        {
          "output_type": "display_data",
          "data": {
            "text/plain": [
              "Training: 0it [00:00, ?it/s]"
            ],
            "application/vnd.jupyter.widget-view+json": {
              "version_major": 2,
              "version_minor": 0,
              "model_id": "882e772bbb284b94a0730912b9bde6df"
            }
          },
          "metadata": {}
        }
      ]
    },
    {
      "cell_type": "markdown",
      "source": [
        "# Results example"
      ],
      "metadata": {
        "id": "lzX45d5ABn_W"
      }
    },
    {
      "cell_type": "markdown",
      "source": [
        "1. Go to https://drive.google.com/drive/folders/1kTAxz5yc7SpmPJ4Q3MabSrXh7RQCCzt4?usp=sharing and make a shortcut from the checkpoint path to your root dir in drive\n",
        "![Screenshot 2023-08-29 at 23.48.59.png](data:image/png;base64,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)\n",
        "\n",
        "![image.png](data:image/png;base64,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)"
      ],
      "metadata": {
        "id": "w0NOXljRDsoj"
      }
    },
    {
      "cell_type": "markdown",
      "source": [
        "2. checkpoint are saved in google drive, if you wish to load the model you must authorise acsess"
      ],
      "metadata": {
        "id": "7xWgykkFC4Io"
      }
    },
    {
      "cell_type": "code",
      "source": [
        "from google.colab import drive\n",
        "drive.mount('/content/drive', force_remount=True)"
      ],
      "metadata": {
        "colab": {
          "base_uri": "https://localhost:8080/"
        },
        "id": "swlc_1u5Cu7Z",
        "outputId": "4a524352-6d08-40be-b02b-cac745a3f607"
      },
      "execution_count": 11,
      "outputs": [
        {
          "output_type": "stream",
          "name": "stdout",
          "text": [
            "Mounted at /content/drive\n"
          ]
        }
      ]
    },
    {
      "cell_type": "code",
      "source": [
        "tokenizer = T5Tokenizer.from_pretrained(MODEL_NAME, model_max_length=max(get_max_tokens_number(train_df, cols[0], cols[1])))"
      ],
      "metadata": {
        "id": "mA1Ub_qxNVhh"
      },
      "execution_count": 12,
      "outputs": []
    },
    {
      "cell_type": "code",
      "source": [
        "trained_model = T5Model(MODEL_NAME)\n",
        "checkpoint = torch.load(f'/content/drive/MyDrive/{SAVE_TO_CHECKPOINT}.ckpt')\n",
        "trained_model.load_state_dict(checkpoint['state_dict'])\n",
        "trained_model.to(DEVICE)\n"
      ],
      "metadata": {
        "id": "e3-itxvaBjse"
      },
      "execution_count": null,
      "outputs": []
    },
    {
      "cell_type": "code",
      "source": [
        "context_manager = DialogContextManager(trained_model, tokenizer, i_max_token_len, DEVICE)\n",
        "print(context_manager.write(\"Hi! how are you?\"))"
      ],
      "metadata": {
        "id": "W4sf-yPCDZdv",
        "colab": {
          "base_uri": "https://localhost:8080/"
        },
        "outputId": "fcb3cb19-7a91-44ec-a518-9e7979046170"
      },
      "execution_count": 26,
      "outputs": [
        {
          "output_type": "stream",
          "name": "stdout",
          "text": [
            "Question: Hi! how are you?\n",
            "Answer: Person2: I'm fine. How about you?\n"
          ]
        }
      ]
    },
    {
      "cell_type": "code",
      "source": [
        "print(context_manager.write(\"Actually i'm feeling sick.\"))"
      ],
      "metadata": {
        "colab": {
          "base_uri": "https://localhost:8080/"
        },
        "id": "KD1rS3UnLjFQ",
        "outputId": "8d1584bd-2ce8-4220-b749-277eb76aea8d"
      },
      "execution_count": 27,
      "outputs": [
        {
          "output_type": "stream",
          "name": "stdout",
          "text": [
            "Question: Hi! how are you?\n",
            "Answer: Person2: I'm fine. How about you?\n",
            "Question: Actually i'm feeling sick.\n",
            "Answer: Person2: I'm sorry.\n"
          ]
        }
      ]
    },
    {
      "cell_type": "code",
      "source": [
        "context_manager = DialogContextManager(trained_model, tokenizer, i_max_token_len, DEVICE)\n",
        "print(context_manager.write(\"Where do you work?\"))"
      ],
      "metadata": {
        "colab": {
          "base_uri": "https://localhost:8080/"
        },
        "id": "oMGMRKV1Lq2J",
        "outputId": "1fbbab48-2ddb-49bd-e755-9459e22ba948"
      },
      "execution_count": 30,
      "outputs": [
        {
          "output_type": "stream",
          "name": "stdout",
          "text": [
            "Question: Where do you work?\n",
            "Answer: Person2: I work in the embassy.\n"
          ]
        }
      ]
    },
    {
      "cell_type": "code",
      "source": [
        "print(context_manager.write(\"Cool. do you like working there?\"))"
      ],
      "metadata": {
        "colab": {
          "base_uri": "https://localhost:8080/"
        },
        "id": "nKoEtCOKL0Ov",
        "outputId": "f77227a3-38a5-44e6-9f20-67b304a6e590"
      },
      "execution_count": 31,
      "outputs": [
        {
          "output_type": "stream",
          "name": "stdout",
          "text": [
            "Question: Where do you work?\n",
            "Answer: Person2: I work in the embassy.\n",
            "Question: Cool. do you like working there?\n",
            "Answer: Person2: Yes, I like working in the embassy.\n"
          ]
        }
      ]
    },
    {
      "cell_type": "code",
      "source": [],
      "metadata": {
        "id": "kBZnLjOaME1O"
      },
      "execution_count": null,
      "outputs": []
    }
  ]
}